{
 "cells": [
  {
   "cell_type": "markdown",
   "metadata": {
    "collapsed": true
   },
   "source": [
    "# 图像分类\n",
    "\n",
    "在此项目中，你将对 [CIFAR-10 数据集](https://www.cs.toronto.edu/~kriz/cifar.html) 中的图片进行分类。该数据集包含飞机、猫狗和其他物体。你需要预处理这些图片，然后用所有样本训练一个卷积神经网络。图片需要标准化（normalized），标签需要采用 one-hot 编码。你需要应用所学的知识构建卷积的、最大池化（max pooling）、丢弃（dropout）和完全连接（fully connected）的层。最后，你需要在样本图片上看到神经网络的预测结果。\n",
    "\n",
    "\n",
    "## 获取数据\n",
    "\n",
    "请运行以下单元，以下载 [CIFAR-10 数据集（Python版）](https://www.cs.toronto.edu/~kriz/cifar-10-python.tar.gz)。\n"
   ]
  },
  {
   "cell_type": "code",
   "execution_count": 1,
   "metadata": {},
   "outputs": [
    {
     "name": "stderr",
     "output_type": "stream",
     "text": [
      "CIFAR-10 Dataset: 171MB [10:10, 279kB/s]                                                                               \n"
     ]
    },
    {
     "name": "stdout",
     "output_type": "stream",
     "text": [
      "All files found!\n"
     ]
    }
   ],
   "source": [
    "\"\"\"\n",
    "DON'T MODIFY ANYTHING IN THIS CELL THAT IS BELOW THIS LINE\n",
    "\"\"\"\n",
    "from urllib.request import urlretrieve\n",
    "from os.path import isfile, isdir\n",
    "from tqdm import tqdm\n",
    "import problem_unittests as tests\n",
    "import tarfile\n",
    "\n",
    "cifar10_dataset_folder_path = 'cifar-10-batches-py'\n",
    "\n",
    "# Use Floyd's cifar-10 dataset if present\n",
    "floyd_cifar10_location = '/input/cifar-10/python.tar.gz'\n",
    "if isfile(floyd_cifar10_location):\n",
    "    tar_gz_path = floyd_cifar10_location\n",
    "else:\n",
    "    tar_gz_path = 'cifar-10-python.tar.gz'\n",
    "\n",
    "class DLProgress(tqdm):\n",
    "    last_block = 0\n",
    "\n",
    "    def hook(self, block_num=1, block_size=1, total_size=None):\n",
    "        self.total = total_size\n",
    "        self.update((block_num - self.last_block) * block_size)\n",
    "        self.last_block = block_num\n",
    "\n",
    "if not isfile(tar_gz_path):\n",
    "    with DLProgress(unit='B', unit_scale=True, miniters=1, desc='CIFAR-10 Dataset') as pbar:\n",
    "        urlretrieve(\n",
    "            'https://www.cs.toronto.edu/~kriz/cifar-10-python.tar.gz',\n",
    "            tar_gz_path,\n",
    "            pbar.hook)\n",
    "\n",
    "if not isdir(cifar10_dataset_folder_path):\n",
    "    with tarfile.open(tar_gz_path) as tar:\n",
    "        tar.extractall()\n",
    "        tar.close()\n",
    "\n",
    "\n",
    "tests.test_folder_path(cifar10_dataset_folder_path)"
   ]
  },
  {
   "cell_type": "markdown",
   "metadata": {},
   "source": [
    "## 探索数据\n",
    "\n",
    "该数据集分成了几部分／批次（batches），以免你的机器在计算时内存不足。CIFAR-10 数据集包含 5 个部分，名称分别为 `data_batch_1`、`data_batch_2`，以此类推。每个部分都包含以下某个类别的标签和图片：\n",
    "\n",
    "* 飞机\n",
    "* 汽车\n",
    "* 鸟类\n",
    "* 猫\n",
    "* 鹿\n",
    "* 狗\n",
    "* 青蛙\n",
    "* 马\n",
    "* 船只\n",
    "* 卡车\n",
    "\n",
    "了解数据集也是对数据进行预测的必经步骤。你可以通过更改 `batch_id` 和 `sample_id` 探索下面的代码单元。`batch_id` 是数据集一个部分的 ID（1 到 5）。`sample_id` 是该部分中图片和标签对（label pair）的 ID。\n",
    "\n",
    "问问你自己：“可能的标签有哪些？”、“图片数据的值范围是多少？”、“标签是按顺序排列，还是随机排列的？”。思考类似的问题，有助于你预处理数据，并使预测结果更准确。\n"
   ]
  },
  {
   "cell_type": "code",
   "execution_count": 2,
   "metadata": {},
   "outputs": [
    {
     "name": "stdout",
     "output_type": "stream",
     "text": [
      "\n",
      "Stats of batch 1:\n",
      "Samples: 10000\n",
      "Label Counts: {0: 1005, 1: 974, 2: 1032, 3: 1016, 4: 999, 5: 937, 6: 1030, 7: 1001, 8: 1025, 9: 981}\n",
      "First 20 Labels: [6, 9, 9, 4, 1, 1, 2, 7, 8, 3, 4, 7, 7, 2, 9, 9, 9, 3, 2, 6]\n",
      "\n",
      "Example of Image 5:\n",
      "Image - Min Value: 0 Max Value: 252\n",
      "Image - Shape: (32, 32, 3)\n",
      "Label - Label Id: 1 Name: automobile\n"
     ]
    },
    {
     "data": {
      "image/png": "[encoded data removed]",
      "text/plain": [
       "<matplotlib.figure.Figure at 0x153528751d0>"
      ]
     },
     "metadata": {
      "image/png": {
       "height": 250,
       "width": 253
      }
     },
     "output_type": "display_data"
    }
   ],
   "source": [
    "%matplotlib inline\n",
    "%config InlineBackend.figure_format = 'retina'\n",
    "\n",
    "import helper\n",
    "import numpy as np\n",
    "\n",
    "# Explore the dataset\n",
    "batch_id = 1\n",
    "sample_id = 5\n",
    "helper.display_stats(cifar10_dataset_folder_path, batch_id, sample_id)"
   ]
  },
  {
   "cell_type": "markdown",
   "metadata": {},
   "source": [
    "## 实现预处理函数\n",
    "\n",
    "### 标准化\n",
    "\n",
    "在下面的单元中，实现 `normalize` 函数，传入图片数据 `x`，并返回标准化 Numpy 数组。值应该在 0 到 1 的范围内（含 0 和 1）。返回对象应该和 `x` 的形状一样。\n"
   ]
  },
  {
   "cell_type": "code",
   "execution_count": 3,
   "metadata": {},
   "outputs": [
    {
     "name": "stdout",
     "output_type": "stream",
     "text": [
      "Tests Passed\n"
     ]
    }
   ],
   "source": [
    "def normalize(x):\n",
    "    \"\"\"\n",
    "    Normalize a list of sample image data in the range of 0 to 1\n",
    "    : x: List of image data.  The image shape is (32, 32, 3)\n",
    "    : return: Numpy array of normalize data\n",
    "    \"\"\"\n",
    "    # TODO: Implement Function\n",
    "    return x/255\n",
    "\n",
    "\n",
    "\"\"\"\n",
    "DON'T MODIFY ANYTHING IN THIS CELL THAT IS BELOW THIS LINE\n",
    "\"\"\"\n",
    "tests.test_normalize(normalize)"
   ]
  },
  {
   "cell_type": "markdown",
   "metadata": {},
   "source": [
    "### One-hot 编码\n",
    "\n",
    "和之前的代码单元一样，你将为预处理实现一个函数。这次，你将实现 `one_hot_encode` 函数。输入，也就是 `x`，是一个标签列表。实现该函数，以返回为 one_hot 编码的 Numpy 数组的标签列表。标签的可能值为 0 到 9。每次调用 `one_hot_encode` 时，对于每个值，one_hot 编码函数应该返回相同的编码。确保将编码映射保存到该函数外面。\n",
    "\n",
    "提示：不要重复发明轮子。\n"
   ]
  },
  {
   "cell_type": "code",
   "execution_count": 4,
   "metadata": {},
   "outputs": [
    {
     "name": "stderr",
     "output_type": "stream",
     "text": [
      "Using TensorFlow backend.\n"
     ]
    }
   ],
   "source": [
    "from keras.utils import to_categorical"
   ]
  },
  {
   "cell_type": "code",
   "execution_count": 5,
   "metadata": {},
   "outputs": [
    {
     "name": "stdout",
     "output_type": "stream",
     "text": [
      "Tests Passed\n"
     ]
    }
   ],
   "source": [
    "def one_hot_encode(x):\n",
    "    \"\"\"\n",
    "    One hot encode a list of sample labels. Return a one-hot encoded vector for each label.\n",
    "    : x: List of sample Labels\n",
    "    : return: Numpy array of one-hot encoded labels\n",
    "    \"\"\"\n",
    "    # TODO: Implement Function\n",
    "    return to_categorical(x,num_classes=10)\n",
    "\n",
    "\n",
    "\"\"\"\n",
    "DON'T MODIFY ANYTHING IN THIS CELL THAT IS BELOW THIS LINE\n",
    "\"\"\"\n",
    "tests.test_one_hot_encode(one_hot_encode)"
   ]
  },
  {
   "cell_type": "markdown",
   "metadata": {},
   "source": [
    "### 随机化数据\n",
    "\n",
    "之前探索数据时，你已经了解到，样本的顺序是随机的。再随机化一次也不会有什么关系，但是对于这个数据集没有必要。\n"
   ]
  },
  {
   "cell_type": "markdown",
   "metadata": {},
   "source": [
    "## 预处理所有数据并保存\n",
    "\n",
    "运行下方的代码单元，将预处理所有 CIFAR-10 数据，并保存到文件中。下面的代码还使用了 10% 的训练数据，用来验证。\n"
   ]
  },
  {
   "cell_type": "code",
   "execution_count": 6,
   "metadata": {
    "collapsed": true
   },
   "outputs": [],
   "source": [
    "\"\"\"\n",
    "DON'T MODIFY ANYTHING IN THIS CELL\n",
    "\"\"\"\n",
    "# Preprocess Training, Validation, and Testing Data\n",
    "helper.preprocess_and_save_data(cifar10_dataset_folder_path, normalize, one_hot_encode)"
   ]
  },
  {
   "cell_type": "markdown",
   "metadata": {},
   "source": [
    "# 检查点\n",
    "\n",
    "这是你的第一个检查点。如果你什么时候决定再回到该记事本，或需要重新启动该记事本，你可以从这里开始。预处理的数据已保存到本地。\n"
   ]
  },
  {
   "cell_type": "code",
   "execution_count": 1,
   "metadata": {
    "collapsed": true
   },
   "outputs": [],
   "source": [
    "\"\"\"\n",
    "DON'T MODIFY ANYTHING IN THIS CELL\n",
    "\"\"\"\n",
    "import pickle\n",
    "import problem_unittests as tests\n",
    "import helper\n",
    "\n",
    "# Load the Preprocessed Validation data\n",
    "valid_features, valid_labels = pickle.load(open('preprocess_validation.p', mode='rb'))"
   ]
  },
  {
   "cell_type": "markdown",
   "metadata": {},
   "source": [
    "## 构建网络\n",
    "\n",
    "对于该神经网络，你需要将每层都构建为一个函数。你看到的大部分代码都位于函数外面。要更全面地测试你的代码，我们需要你将每层放入一个函数中。这样使我们能够提供更好的反馈，并使用我们的统一测试检测简单的错误，然后再提交项目。\n",
    "\n",
    ">**注意**：如果你觉得每周很难抽出足够的时间学习这门课程，我们为此项目提供了一个小捷径。对于接下来的几个问题，你可以使用 [TensorFlow Layers](https://www.tensorflow.org/api_docs/python/tf/layers) 或 [TensorFlow Layers (contrib)](https://www.tensorflow.org/api_guides/python/contrib.layers) 程序包中的类来构建每个层级，但是“卷积和最大池化层级”部分的层级除外。TF Layers 和 Keras 及 TFLearn 层级类似，因此很容易学会。\n",
    "\n",
    ">但是，如果你想充分利用这门课程，请尝试自己解决所有问题，不使用 TF Layers 程序包中的任何类。你依然可以使用其他程序包中的类，这些类和你在 TF Layers 中的类名称是一样的！例如，你可以使用 TF Neural Network 版本的 `conv2d` 类 [tf.nn.conv2d](https://www.tensorflow.org/api_docs/python/tf/nn/conv2d)，而不是 TF Layers 版本的 `conv2d` 类 [tf.layers.conv2d](https://www.tensorflow.org/api_docs/python/tf/layers/conv2d)。\n",
    "\n",
    "我们开始吧！\n",
    "\n",
    "\n",
    "### 输入\n",
    "\n",
    "神经网络需要读取图片数据、one-hot 编码标签和丢弃保留概率（dropout keep probability）。请实现以下函数：\n",
    "\n",
    "* 实现 `neural_net_image_input`\n",
    " * 返回 [TF Placeholder](https://www.tensorflow.org/api_docs/python/tf/placeholder)\n",
    " * 使用 `image_shape` 设置形状，部分大小设为 `None`\n",
    " * 使用 [TF Placeholder](https://www.tensorflow.org/api_docs/python/tf/placeholder) 中的 TensorFlow `name` 参数对 TensorFlow 占位符 \"x\" 命名\n",
    "* 实现 `neural_net_label_input`\n",
    " * 返回 [TF Placeholder](https://www.tensorflow.org/api_docs/python/tf/placeholder)\n",
    " * 使用 `n_classes` 设置形状，部分大小设为 `None`\n",
    " * 使用 [TF Placeholder](https://www.tensorflow.org/api_docs/python/tf/placeholder) 中的 TensorFlow `name` 参数对 TensorFlow 占位符 \"y\" 命名\n",
    "* 实现 `neural_net_keep_prob_input`\n",
    " * 返回 [TF Placeholder](https://www.tensorflow.org/api_docs/python/tf/placeholder)，用于丢弃保留概率\n",
    " * 使用 [TF Placeholder](https://www.tensorflow.org/api_docs/python/tf/placeholder) 中的 TensorFlow `name` 参数对 TensorFlow 占位符 \"keep_prob\" 命名\n",
    "\n",
    "这些名称将在项目结束时，用于加载保存的模型。\n",
    "\n",
    "注意：TensorFlow 中的 `None` 表示形状可以是动态大小。"
   ]
  },
  {
   "cell_type": "code",
   "execution_count": 2,
   "metadata": {},
   "outputs": [
    {
     "name": "stdout",
     "output_type": "stream",
     "text": [
      "Image Input Tests Passed.\n",
      "Label Input Tests Passed.\n",
      "Keep Prob Tests Passed.\n"
     ]
    }
   ],
   "source": [
    "import tensorflow as tf\n",
    "\n",
    "def neural_net_image_input(image_shape):\n",
    "    \"\"\"\n",
    "    Return a Tensor for a batch of image input\n",
    "    : image_shape: Shape of the images\n",
    "    : return: Tensor for image input.\n",
    "    \"\"\"\n",
    "    # TODO: Implement Function\n",
    "    return tf.placeholder(shape=(None,*image_shape),dtype=tf.float32, name=\"x\")\n",
    "\n",
    "\n",
    "def neural_net_label_input(n_classes):\n",
    "    \"\"\"\n",
    "    Return a Tensor for a batch of label input\n",
    "    : n_classes: Number of classes\n",
    "    : return: Tensor for label input.\n",
    "    \"\"\"\n",
    "    # TODO: Implement Function\n",
    "    return tf.placeholder(shape=(None, n_classes), dtype=tf.float32, name='y')\n",
    "\n",
    "\n",
    "def neural_net_keep_prob_input():\n",
    "    \"\"\"\n",
    "    Return a Tensor for keep probability\n",
    "    : return: Tensor for keep probability.\n",
    "    \"\"\"\n",
    "    # TODO: Implement Function\n",
    "    return tf.placeholder(dtype=tf.float32, name='keep_prob')\n",
    "\n",
    "\n",
    "\"\"\"\n",
    "DON'T MODIFY ANYTHING IN THIS CELL THAT IS BELOW THIS LINE\n",
    "\"\"\"\n",
    "tf.reset_default_graph()\n",
    "tests.test_nn_image_inputs(neural_net_image_input)\n",
    "tests.test_nn_label_inputs(neural_net_label_input)\n",
    "tests.test_nn_keep_prob_inputs(neural_net_keep_prob_input)"
   ]
  },
  {
   "cell_type": "markdown",
   "metadata": {},
   "source": [
    "### 卷积和最大池化层\n",
    "\n",
    "卷积层级适合处理图片。对于此代码单元，你应该实现函数 `conv2d_maxpool` 以便应用卷积然后进行最大池化：\n",
    "\n",
    "* 使用 `conv_ksize`、`conv_num_outputs` 和 `x_tensor` 的形状创建权重（weight）和偏置（bias）。\n",
    "* 使用权重和 `conv_strides` 对 `x_tensor` 应用卷积。\n",
    " * 建议使用我们建议的间距（padding），当然也可以使用任何其他间距。\n",
    "* 添加偏置\n",
    "* 向卷积中添加非线性激活（nonlinear activation）\n",
    "* 使用 `pool_ksize` 和 `pool_strides` 应用最大池化\n",
    " * 建议使用我们建议的间距（padding），当然也可以使用任何其他间距。\n",
    "\n",
    "**注意**：对于**此层**，**请勿使用** [TensorFlow Layers](https://www.tensorflow.org/api_docs/python/tf/layers) 或 [TensorFlow Layers (contrib)](https://www.tensorflow.org/api_guides/python/contrib.layers)，但是仍然可以使用 TensorFlow 的 [Neural Network](https://www.tensorflow.org/api_docs/python/tf/nn) 包。对于所有**其他层**，你依然可以使用快捷方法。\n"
   ]
  },
  {
   "cell_type": "code",
   "execution_count": 80,
   "metadata": {},
   "outputs": [
    {
     "name": "stdout",
     "output_type": "stream",
     "text": [
      "Tests Passed\n"
     ]
    }
   ],
   "source": [
    "def conv2d_maxpool(x_tensor, conv_num_outputs, conv_ksize, conv_strides, pool_ksize, pool_strides):\n",
    "    \"\"\"\n",
    "    Apply convolution then max pooling to x_tensor\n",
    "    :param x_tensor: TensorFlow Tensor\n",
    "    :param conv_num_outputs: Number of outputs for the convolutional layer\n",
    "    :param conv_ksize: kernal size 2-D Tuple for the convolutional layer\n",
    "    :param conv_strides: Stride 2-D Tuple for convolution\n",
    "    :param pool_ksize: kernal size 2-D Tuple for pool\n",
    "    :param pool_strides: Stride 2-D Tuple for pool\n",
    "    : return: A tensor that represents convolution and max pooling of x_tensor\n",
    "    \"\"\"\n",
    "    # TODO: Implement Function\n",
    "    x_shape = x_tensor.get_shape().as_list()\n",
    "    f_w_shape = (*conv_ksize, x_shape[-1], conv_num_outputs)\n",
    "    f_w = tf.Variable(tf.truncated_normal(shape=f_w_shape)*0.01, dtype=tf.float32)\n",
    "    f_b = tf.Variable(tf.zeros(conv_num_outputs), dtype=tf.float32)\n",
    "    # conv\n",
    "    x_conv = tf.nn.conv2d(x_tensor, filter=f_w, strides=[1, *conv_strides, 1], padding='SAME')\n",
    "    # add bias\n",
    "    x_conv = tf.nn.bias_add(x_conv, f_b)\n",
    "    # used the relu activation\n",
    "    x_conv = tf.nn.relu(x_conv)\n",
    "    # pooling\n",
    "    max_pool = tf.nn.max_pool(x_conv, ksize=[1, *pool_ksize, 1], strides=[1,*pool_strides, 1], padding='SAME')\n",
    "    return max_pool\n",
    "\n",
    "\n",
    "\"\"\"\n",
    "DON'T MODIFY ANYTHING IN THIS CELL THAT IS BELOW THIS LINE\n",
    "\"\"\"\n",
    "tests.test_con_pool(conv2d_maxpool)"
   ]
  },
  {
   "cell_type": "markdown",
   "metadata": {},
   "source": [
    "### 扁平化层\n",
    "\n",
    "实现 `flatten` 函数，将 `x_tensor` 的维度从四维张量（4-D tensor）变成二维张量。输出应该是形状（*部分大小（Batch Size）*，*扁平化图片大小（Flattened Image Size）*）。快捷方法：对于此层，你可以使用 [TensorFlow Layers](https://www.tensorflow.org/api_docs/python/tf/layers) 或 [TensorFlow Layers (contrib)](https://www.tensorflow.org/api_guides/python/contrib.layers) 包中的类。如果你想要更大挑战，可以仅使用其他 TensorFlow 程序包。\n"
   ]
  },
  {
   "cell_type": "code",
   "execution_count": 82,
   "metadata": {},
   "outputs": [
    {
     "name": "stdout",
     "output_type": "stream",
     "text": [
      "Tests Passed\n"
     ]
    }
   ],
   "source": [
    "def flatten(x_tensor):\n",
    "    \"\"\"\n",
    "    Flatten x_tensor to (Batch Size, Flattened Image Size)\n",
    "    : x_tensor: A tensor of size (Batch Size, ...), where ... are the image dimensions.\n",
    "    : return: A tensor of size (Batch Size, Flattened Image Size).\n",
    "    \"\"\"\n",
    "    # TODO: Implement Function\n",
    "    return tf.layers.flatten(inputs=x_tensor)\n",
    "\n",
    "\n",
    "\"\"\"\n",
    "DON'T MODIFY ANYTHING IN THIS CELL THAT IS BELOW THIS LINE\n",
    "\"\"\"\n",
    "tests.test_flatten(flatten)"
   ]
  },
  {
   "cell_type": "markdown",
   "metadata": {},
   "source": [
    "### 全连接层\n",
    "\n",
    "实现 `fully_conn` 函数，以向 `x_tensor` 应用完全连接的层级，形状为（*部分大小（Batch Size）*，*num_outputs*）。快捷方法：对于此层，你可以使用 [TensorFlow Layers](https://www.tensorflow.org/api_docs/python/tf/layers) 或 [TensorFlow Layers (contrib)](https://www.tensorflow.org/api_guides/python/contrib.layers) 包中的类。如果你想要更大挑战，可以仅使用其他 TensorFlow 程序包。"
   ]
  },
  {
   "cell_type": "code",
   "execution_count": 98,
   "metadata": {},
   "outputs": [
    {
     "name": "stdout",
     "output_type": "stream",
     "text": [
      "Tests Passed\n"
     ]
    }
   ],
   "source": [
    "def fully_conn(x_tensor, num_outputs):\n",
    "    \"\"\"\n",
    "    Apply a fully connected layer to x_tensor using weight and bias\n",
    "    : x_tensor: A 2-D tensor where the first dimension is batch size.\n",
    "    : num_outputs: The number of output that the new tensor should be.\n",
    "    : return: A 2-D tensor where the second dimension is num_outputs.\n",
    "    \"\"\"\n",
    "    # TODO: Implement Function\n",
    "    return tf.layers.dense(x_tensor, num_outputs,activation=tf.nn.relu,\n",
    "                           kernel_initializer=tf.glorot_normal_initializer(1),\n",
    "                           kernel_regularizer=tf.contrib.layers.l2_regularizer)\n",
    "\n",
    "\"\"\"\n",
    "DON'T MODIFY ANYTHING IN THIS CELL THAT IS BELOW THIS LINE\n",
    "\"\"\"\n",
    "tests.test_fully_conn(fully_conn)"
   ]
  },
  {
   "cell_type": "markdown",
   "metadata": {},
   "source": [
    "### 输出层\n",
    "\n",
    "实现 `output` 函数，向 x_tensor 应用完全连接的层级，形状为（*部分大小（Batch Size）*，*num_outputs*）。快捷方法：对于此层，你可以使用 [TensorFlow Layers](https://www.tensorflow.org/api_docs/python/tf/layers) 或 [TensorFlow Layers (contrib)](https://www.tensorflow.org/api_guides/python/contrib.layers) 包中的类。如果你想要更大挑战，可以仅使用其他 TensorFlow 程序包。\n",
    "\n",
    "**注意**：该层级不应应用 Activation、softmax 或交叉熵（cross entropy）。"
   ]
  },
  {
   "cell_type": "code",
   "execution_count": 99,
   "metadata": {},
   "outputs": [
    {
     "name": "stdout",
     "output_type": "stream",
     "text": [
      "Tests Passed\n"
     ]
    }
   ],
   "source": [
    "def output(x_tensor, num_outputs):\n",
    "    \"\"\"\n",
    "    Apply a output layer to x_tensor using weight and bias\n",
    "    : x_tensor: A 2-D tensor where the first dimension is batch size.\n",
    "    : num_outputs: The number of output that the new tensor should be.\n",
    "    : return: A 2-D tensor where the second dimension is num_outputs.\n",
    "    \"\"\"\n",
    "    # TODO: Implement Function\n",
    "    return tf.layers.dense(x_tensor, num_outputs,\n",
    "                           kernel_regularizer=tf.contrib.layers.l2_regularizer,\n",
    "                           kernel_initializer=tf.glorot_normal_initializer(1))\n",
    "\n",
    "\n",
    "\"\"\"\n",
    "DON'T MODIFY ANYTHING IN THIS CELL THAT IS BELOW THIS LINE\n",
    "\"\"\"\n",
    "tests.test_output(output)"
   ]
  },
  {
   "cell_type": "markdown",
   "metadata": {},
   "source": [
    "### 创建卷积模型\n",
    "\n",
    "实现函数 `conv_net`， 创建卷积神经网络模型。该函数传入一批图片 `x`，并输出对数（logits）。使用你在上方创建的层创建此模型：\n",
    "\n",
    "* 应用 1、2 或 3 个卷积和最大池化层（Convolution and Max Pool layers）\n",
    "* 应用一个扁平层（Flatten Layer）\n",
    "* 应用 1、2 或 3 个完全连接层（Fully Connected Layers）\n",
    "* 应用一个输出层（Output Layer）\n",
    "* 返回输出\n",
    "* 使用 `keep_prob` 向模型中的一个或多个层应用 [TensorFlow 的 Dropout](https://www.tensorflow.org/api_docs/python/tf/nn/dropout)"
   ]
  },
  {
   "cell_type": "code",
   "execution_count": 100,
   "metadata": {},
   "outputs": [
    {
     "name": "stdout",
     "output_type": "stream",
     "text": [
      "Neural Network Built!\n"
     ]
    }
   ],
   "source": [
    "def conv_net(x, keep_prob):\n",
    "    \"\"\"\n",
    "    Create a convolutional neural network model\n",
    "    : x: Placeholder tensor that holds image data.\n",
    "    : keep_prob: Placeholder tensor that hold dropout keep probability.\n",
    "    : return: Tensor that represents logits\n",
    "    \"\"\"\n",
    "    # TODO: Apply 1, 2, or 3 Convolution and Max Pool layers\n",
    "    #    Play around with different number of outputs, kernel size and stride\n",
    "    # Function Definition from Above:\n",
    "    #    conv2d_maxpool(x_tensor, conv_num_outputs, conv_ksize, conv_strides, pool_ksize, pool_strides)\n",
    "    o = conv2d_maxpool(x, 32, [5,5],[1,1],[3,3],[2,2])\n",
    "    # shape (None, 16, 16, 6)\n",
    "#     o = tf.layers.batch_normalization(o)\n",
    "    o = tf.nn.dropout(o,keep_prob=keep_prob)\n",
    "    o = conv2d_maxpool(o, 64, [5,5], [1,1], [2, 2], [2, 2])\n",
    "    # shape (None, 8, 8, 12)\n",
    "#     o = tf.layers.batch_normalization(o)\n",
    "    o = tf.nn.dropout(o, keep_prob=keep_prob)\n",
    "#     o = conv2d_maxpool(o, 18, [3,3], [1,1], [2, 2], [2, 2])\n",
    "    # shape (None, 4, 4, 18)\n",
    "#     o = tf.layers.batch_normalization(o)\n",
    "#     o = tf.nn.dropout(o, keep_prob=keep_prob)\n",
    "    \n",
    "    # TODO: Apply a Flatten Layer\n",
    "    # Function Definition from Above:\n",
    "    #   flatten(x_tensor)\n",
    "    o = flatten(o)\n",
    "    \n",
    "\n",
    "    # TODO: Apply 1, 2, or 3 Fully Connected Layers\n",
    "    #    Play around with different number of outputs\n",
    "    # Function Definition from Above:\n",
    "    #   fully_conn(x_tensor, num_outputs)\n",
    "    o = fully_conn(o, 384)\n",
    "    o = tf.nn.dropout(o,keep_prob=keep_prob)\n",
    "    \n",
    "    o = fully_conn(o, 192)\n",
    "    o = tf.nn.dropout(o,keep_prob=keep_prob)\n",
    "#     o = fully_conn(o, 80)\n",
    "#     o = tf.nn.relu(o)\n",
    "#     o = tf.nn.dropout(o,keep_prob=keep_prob)\n",
    "#     o = fully_conn(o ,16)\n",
    "#     o = tf.layers.batch_normalization(o)\n",
    "#     o = tf.nn.relu(o)\n",
    "#     o = tf.layers.dropout(o, rate=keep_prob)\n",
    "    # TODO: Apply an Output Layer\n",
    "    #    Set this to the number of classes\n",
    "    # Function Definition from Above:\n",
    "    #   output(x_tensor, num_outputs)\n",
    "    o = output(o, 10)\n",
    "    \n",
    "    # TODO: return output\n",
    "    return o\n",
    "\n",
    "\n",
    "\"\"\"\n",
    "DON'T MODIFY ANYTHING IN THIS CELL THAT IS BELOW THIS LINE\n",
    "\"\"\"\n",
    "\n",
    "##############################\n",
    "## Build the Neural Network ##\n",
    "##############################\n",
    "\n",
    "# Remove previous weights, bias, inputs, etc..\n",
    "tf.reset_default_graph()\n",
    "\n",
    "# Inputs\n",
    "x = neural_net_image_input((32, 32, 3))\n",
    "y = neural_net_label_input(10)\n",
    "keep_prob = neural_net_keep_prob_input()\n",
    "\n",
    "# Model\n",
    "logits = conv_net(x, keep_prob)\n",
    "\n",
    "# Name logits Tensor, so that is can be loaded from disk after training\n",
    "logits = tf.identity(logits, name='logits')\n",
    "\n",
    "# Loss and Optimizer\n",
    "cost = tf.reduce_mean(tf.nn.softmax_cross_entropy_with_logits(logits=logits, labels=y))\n",
    "optimizer = tf.train.AdamOptimizer().minimize(cost)\n",
    "\n",
    "# Accuracy\n",
    "correct_pred = tf.equal(tf.argmax(logits, 1), tf.argmax(y, 1))\n",
    "accuracy = tf.reduce_mean(tf.cast(correct_pred, tf.float32), name='accuracy')\n",
    "\n",
    "tests.test_conv_net(conv_net)"
   ]
  },
  {
   "cell_type": "markdown",
   "metadata": {},
   "source": [
    "### 训练神经网络\n",
    "#### 单次优化\n",
    "实现函数 train_neural_network 以进行单次优化（single optimization）。该优化应该使用 optimizer 优化 session，其中 feed_dict 具有以下参数：\n",
    "\n",
    "+ x 表示图片输入\n",
    "+ y 表示标签\n",
    "+ keep_prob 表示丢弃的保留率\n",
    "每个部分都会调用该函数，所以 tf.global_variables_initializer() 已经被调用。\n",
    "\n",
    "注意：不需要返回任何内容。该函数只是用来优化神经网络。"
   ]
  },
  {
   "cell_type": "code",
   "execution_count": 92,
   "metadata": {},
   "outputs": [
    {
     "name": "stdout",
     "output_type": "stream",
     "text": [
      "Tests Passed\n"
     ]
    }
   ],
   "source": [
    "def train_neural_network(session, optimizer, keep_probability, feature_batch, label_batch):\n",
    "    \"\"\"\n",
    "    Optimize the session on a batch of images and labels\n",
    "    : session: Current TensorFlow session\n",
    "    : optimizer: TensorFlow optimizer function\n",
    "    : keep_probability: keep probability\n",
    "    : feature_batch: Batch of Numpy image data\n",
    "    : label_batch: Batch of Numpy label data\n",
    "    \"\"\"\n",
    "    # TODO: Implement Function\n",
    "    session.run(optimizer, feed_dict={\"x:0\":feature_batch,\"y:0\":label_batch,\"keep_prob:0\":keep_probability})\n",
    "    pass\n",
    "\n",
    "\n",
    "\"\"\"\n",
    "DON'T MODIFY ANYTHING IN THIS CELL THAT IS BELOW THIS LINE\n",
    "\"\"\"\n",
    "tests.test_train_nn(train_neural_network)"
   ]
  },
  {
   "cell_type": "markdown",
   "metadata": {},
   "source": [
    "### 显示数据\n",
    "\n",
    "实现函数 `print_stats` 以输出损失和验证准确率。使用全局变量 `valid_features` 和 `valid_labels` 计算验证准确率。使用保留率 `1.0` 计算损失和验证准确率（loss and validation accuracy）。\n"
   ]
  },
  {
   "cell_type": "code",
   "execution_count": 93,
   "metadata": {},
   "outputs": [],
   "source": [
    "def print_stats(session, feature_batch, label_batch, cost, accuracy):\n",
    "    \"\"\"\n",
    "    Print information about loss and validation accuracy\n",
    "    : session: Current TensorFlow session\n",
    "    : feature_batch: Batch of Numpy image data\n",
    "    : label_batch: Batch of Numpy label data\n",
    "    : cost: TensorFlow cost function\n",
    "    : accuracy: TensorFlow accuracy function\n",
    "    \"\"\"\n",
    "    # TODO: Implement Function\n",
    "    global valid_features, valid_labels\n",
    "    #     \"keep_prob:0\":1.0\n",
    "    loss, acc = sess.run([cost, accuracy], feed_dict={\"x:0\":feature_batch,\"y:0\":label_batch, \"keep_prob:0\":1.0})\n",
    "    val_loss, val_acc = sess.run([cost,accuracy], feed_dict={\"x:0\":valid_features, \"y:0\":valid_labels, \"keep_prob:0\":1.0})\n",
    "    print(\"loss:{}\\tacc:{:2.2f}%\\tval_loss:{}\\tval_acc:{:2.2f}%\".format(loss,100*acc,val_loss,100*val_acc))"
   ]
  },
  {
   "cell_type": "markdown",
   "metadata": {},
   "source": [
    "### 超参数\n",
    "\n",
    "调试以下超参数：\n",
    "* 设置 `epochs` 表示神经网络停止学习或开始过拟合的迭代次数\n",
    "* 设置 `batch_size`，表示机器内存允许的部分最大体积。大部分人设为以下常见内存大小：\n",
    "\n",
    " * 64\n",
    " * 128\n",
    " * 256\n",
    " * ...\n",
    "* 设置 `keep_probability` 表示使用丢弃时保留节点的概率"
   ]
  },
  {
   "cell_type": "code",
   "execution_count": 103,
   "metadata": {
    "collapsed": true
   },
   "outputs": [],
   "source": [
    "# TODO: Tune Parameters\n",
    "epochs = 20\n",
    "batch_size = 128\n",
    "keep_probability = 0.6"
   ]
  },
  {
   "cell_type": "markdown",
   "metadata": {},
   "source": [
    "### 在单个 CIFAR-10 部分上训练\n",
    "\n",
    "我们先用单个部分，而不是用所有的 CIFAR-10 批次训练神经网络。这样可以节省时间，并对模型进行迭代，以提高准确率。最终验证准确率达到 50% 或以上之后，在下一部分对所有数据运行模型。\n"
   ]
  },
  {
   "cell_type": "code",
   "execution_count": 104,
   "metadata": {
    "scrolled": false
   },
   "outputs": [
    {
     "name": "stdout",
     "output_type": "stream",
     "text": [
      "Checking the Training on a Single Batch...\n",
      "Epoch  1, CIFAR-10 Batch 1:  loss:2.170693874359131\tacc:25.00%\tval_loss:2.0996639728546143\tval_acc:24.14%\n",
      "Epoch  2, CIFAR-10 Batch 1:  loss:2.0481154918670654\tacc:20.00%\tval_loss:1.8720128536224365\tval_acc:30.14%\n",
      "Epoch  3, CIFAR-10 Batch 1:  loss:1.9178760051727295\tacc:35.00%\tval_loss:1.7339060306549072\tval_acc:37.56%\n",
      "Epoch  4, CIFAR-10 Batch 1:  loss:1.8873522281646729\tacc:35.00%\tval_loss:1.669969916343689\tval_acc:39.62%\n",
      "Epoch  5, CIFAR-10 Batch 1:  loss:1.817156195640564\tacc:42.50%\tval_loss:1.627532958984375\tval_acc:40.50%\n",
      "Epoch  6, CIFAR-10 Batch 1:  loss:1.7703301906585693\tacc:32.50%\tval_loss:1.600952386856079\tval_acc:41.68%\n",
      "Epoch  7, CIFAR-10 Batch 1:  loss:1.7501643896102905\tacc:40.00%\tval_loss:1.5600509643554688\tval_acc:43.26%\n",
      "Epoch  8, CIFAR-10 Batch 1:  loss:1.6292164325714111\tacc:47.50%\tval_loss:1.5037627220153809\tval_acc:46.04%\n",
      "Epoch  9, CIFAR-10 Batch 1:  loss:1.632192611694336\tacc:42.50%\tval_loss:1.4759531021118164\tval_acc:45.90%\n",
      "Epoch 10, CIFAR-10 Batch 1:  loss:1.5950332880020142\tacc:45.00%\tval_loss:1.4665884971618652\tval_acc:47.14%\n",
      "Epoch 11, CIFAR-10 Batch 1:  loss:1.458807349205017\tacc:45.00%\tval_loss:1.413948655128479\tval_acc:48.74%\n",
      "Epoch 12, CIFAR-10 Batch 1:  loss:1.3629894256591797\tacc:52.50%\tval_loss:1.3745222091674805\tval_acc:50.84%\n",
      "Epoch 13, CIFAR-10 Batch 1:  loss:1.2363859415054321\tacc:60.00%\tval_loss:1.3465509414672852\tval_acc:51.42%\n",
      "Epoch 14, CIFAR-10 Batch 1:  loss:1.159466028213501\tacc:65.00%\tval_loss:1.3368229866027832\tval_acc:52.38%\n",
      "Epoch 15, CIFAR-10 Batch 1:  loss:1.1024601459503174\tacc:65.00%\tval_loss:1.311116099357605\tval_acc:53.18%\n",
      "Epoch 16, CIFAR-10 Batch 1:  loss:1.009076714515686\tacc:70.00%\tval_loss:1.2906990051269531\tval_acc:53.30%\n",
      "Epoch 17, CIFAR-10 Batch 1:  loss:0.9357204437255859\tacc:72.50%\tval_loss:1.2923839092254639\tval_acc:53.78%\n",
      "Epoch 18, CIFAR-10 Batch 1:  loss:0.9092110395431519\tacc:72.50%\tval_loss:1.2946951389312744\tval_acc:54.20%\n",
      "Epoch 19, CIFAR-10 Batch 1:  loss:0.7769958972930908\tacc:85.00%\tval_loss:1.2483458518981934\tval_acc:55.46%\n",
      "Epoch 20, CIFAR-10 Batch 1:  loss:0.7260500192642212\tacc:82.50%\tval_loss:1.2350714206695557\tval_acc:55.92%\n"
     ]
    }
   ],
   "source": [
    "\"\"\"\n",
    "DON'T MODIFY ANYTHING IN THIS CELL\n",
    "\"\"\"\n",
    "print('Checking the Training on a Single Batch...')\n",
    "with tf.Session() as sess:\n",
    "    # Initializing the variables\n",
    "    sess.run(tf.global_variables_initializer())\n",
    "    \n",
    "    # Training cycle\n",
    "    for epoch in range(epochs):\n",
    "        batch_i = 1\n",
    "        for batch_features, batch_labels in helper.load_preprocess_training_batch(batch_i, batch_size):\n",
    "            train_neural_network(sess, optimizer, keep_probability, batch_features, batch_labels)\n",
    "        print('Epoch {:>2}, CIFAR-10 Batch {}:  '.format(epoch + 1, batch_i), end='')\n",
    "        print_stats(sess, batch_features, batch_labels, cost, accuracy)"
   ]
  },
  {
   "cell_type": "markdown",
   "metadata": {},
   "source": [
    "### 完全训练模型\n",
    "\n",
    "现在，单个 CIFAR-10 部分的准确率已经不错了，试试所有五个部分吧。"
   ]
  },
  {
   "cell_type": "code",
   "execution_count": 105,
   "metadata": {},
   "outputs": [
    {
     "name": "stdout",
     "output_type": "stream",
     "text": [
      "Training...\n",
      "Epoch  1, CIFAR-10 Batch 1:  loss:2.179187774658203\tacc:22.50%\tval_loss:2.12233829498291\tval_acc:22.36%\n",
      "Epoch  1, CIFAR-10 Batch 2:  loss:1.847743034362793\tacc:35.00%\tval_loss:1.8041918277740479\tval_acc:33.04%\n",
      "Epoch  1, CIFAR-10 Batch 3:  loss:1.5070381164550781\tacc:42.50%\tval_loss:1.663840651512146\tval_acc:38.06%\n",
      "Epoch  1, CIFAR-10 Batch 4:  loss:1.7302894592285156\tacc:25.00%\tval_loss:1.598410964012146\tval_acc:41.38%\n",
      "Epoch  1, CIFAR-10 Batch 5:  loss:1.6226037740707397\tacc:37.50%\tval_loss:1.566511631011963\tval_acc:42.24%\n",
      "Epoch  2, CIFAR-10 Batch 1:  loss:1.7596323490142822\tacc:40.00%\tval_loss:1.5210492610931396\tval_acc:44.42%\n",
      "Epoch  2, CIFAR-10 Batch 2:  loss:1.4955389499664307\tacc:45.00%\tval_loss:1.4819183349609375\tval_acc:46.30%\n",
      "Epoch  2, CIFAR-10 Batch 3:  loss:1.230988621711731\tacc:50.00%\tval_loss:1.450045108795166\tval_acc:45.66%\n",
      "Epoch  2, CIFAR-10 Batch 4:  loss:1.4770036935806274\tacc:45.00%\tval_loss:1.4309478998184204\tval_acc:47.88%\n",
      "Epoch  2, CIFAR-10 Batch 5:  loss:1.5341694355010986\tacc:50.00%\tval_loss:1.4307221174240112\tval_acc:48.38%\n",
      "Epoch  3, CIFAR-10 Batch 1:  loss:1.5314440727233887\tacc:50.00%\tval_loss:1.3576948642730713\tval_acc:50.76%\n",
      "Epoch  3, CIFAR-10 Batch 2:  loss:1.2966885566711426\tacc:55.00%\tval_loss:1.3779194355010986\tval_acc:49.70%\n",
      "Epoch  3, CIFAR-10 Batch 3:  loss:1.0831209421157837\tacc:67.50%\tval_loss:1.3622304201126099\tval_acc:50.56%\n",
      "Epoch  3, CIFAR-10 Batch 4:  loss:1.2676913738250732\tacc:45.00%\tval_loss:1.3065648078918457\tval_acc:52.74%\n",
      "Epoch  3, CIFAR-10 Batch 5:  loss:1.4487228393554688\tacc:52.50%\tval_loss:1.301081657409668\tval_acc:53.42%\n",
      "Epoch  4, CIFAR-10 Batch 1:  loss:1.3951586484909058\tacc:50.00%\tval_loss:1.2990392446517944\tval_acc:54.02%\n",
      "Epoch  4, CIFAR-10 Batch 2:  loss:1.2200181484222412\tacc:57.50%\tval_loss:1.2989678382873535\tval_acc:54.14%\n",
      "Epoch  4, CIFAR-10 Batch 3:  loss:0.9911306500434875\tacc:72.50%\tval_loss:1.2707939147949219\tval_acc:54.72%\n",
      "Epoch  4, CIFAR-10 Batch 4:  loss:1.2304790019989014\tacc:55.00%\tval_loss:1.2676550149917603\tval_acc:53.84%\n",
      "Epoch  4, CIFAR-10 Batch 5:  loss:1.3021900653839111\tacc:55.00%\tval_loss:1.2496956586837769\tval_acc:55.56%\n",
      "Epoch  5, CIFAR-10 Batch 1:  loss:1.368626356124878\tacc:55.00%\tval_loss:1.2568650245666504\tval_acc:54.46%\n",
      "Epoch  5, CIFAR-10 Batch 2:  loss:1.1703541278839111\tacc:65.00%\tval_loss:1.2315480709075928\tval_acc:56.00%\n",
      "Epoch  5, CIFAR-10 Batch 3:  loss:0.9469980001449585\tacc:65.00%\tval_loss:1.228845238685608\tval_acc:56.44%\n",
      "Epoch  5, CIFAR-10 Batch 4:  loss:1.1304395198822021\tacc:57.50%\tval_loss:1.2269237041473389\tval_acc:56.60%\n",
      "Epoch  5, CIFAR-10 Batch 5:  loss:1.2220031023025513\tacc:55.00%\tval_loss:1.2698936462402344\tval_acc:56.08%\n",
      "Epoch  6, CIFAR-10 Batch 1:  loss:1.190040946006775\tacc:60.00%\tval_loss:1.2304277420043945\tval_acc:56.28%\n",
      "Epoch  6, CIFAR-10 Batch 2:  loss:1.0643274784088135\tacc:60.00%\tval_loss:1.1784852743148804\tval_acc:58.08%\n",
      "Epoch  6, CIFAR-10 Batch 3:  loss:0.8666847348213196\tacc:70.00%\tval_loss:1.193708062171936\tval_acc:57.14%\n",
      "Epoch  6, CIFAR-10 Batch 4:  loss:0.959071934223175\tacc:72.50%\tval_loss:1.1832520961761475\tval_acc:58.52%\n",
      "Epoch  6, CIFAR-10 Batch 5:  loss:1.1535940170288086\tacc:62.50%\tval_loss:1.2261630296707153\tval_acc:57.54%\n",
      "Epoch  7, CIFAR-10 Batch 1:  loss:1.1421358585357666\tacc:62.50%\tval_loss:1.173374056816101\tval_acc:57.68%\n",
      "Epoch  7, CIFAR-10 Batch 2:  loss:1.0779449939727783\tacc:65.00%\tval_loss:1.1655617952346802\tval_acc:58.34%\n",
      "Epoch  7, CIFAR-10 Batch 3:  loss:0.7681357264518738\tacc:75.00%\tval_loss:1.1358795166015625\tval_acc:59.84%\n",
      "Epoch  7, CIFAR-10 Batch 4:  loss:0.9405316114425659\tacc:62.50%\tval_loss:1.1973469257354736\tval_acc:59.10%\n",
      "Epoch  7, CIFAR-10 Batch 5:  loss:1.045674204826355\tacc:65.00%\tval_loss:1.1782795190811157\tval_acc:59.08%\n",
      "Epoch  8, CIFAR-10 Batch 1:  loss:1.0820523500442505\tacc:62.50%\tval_loss:1.1410025358200073\tval_acc:59.74%\n",
      "Epoch  8, CIFAR-10 Batch 2:  loss:1.0578100681304932\tacc:65.00%\tval_loss:1.1394380331039429\tval_acc:59.94%\n",
      "Epoch  8, CIFAR-10 Batch 3:  loss:0.7379105091094971\tacc:80.00%\tval_loss:1.155500054359436\tval_acc:59.40%\n",
      "Epoch  8, CIFAR-10 Batch 4:  loss:0.8730929493904114\tacc:65.00%\tval_loss:1.1744424104690552\tval_acc:59.36%\n",
      "Epoch  8, CIFAR-10 Batch 5:  loss:1.056928277015686\tacc:62.50%\tval_loss:1.1933592557907104\tval_acc:58.28%\n",
      "Epoch  9, CIFAR-10 Batch 1:  loss:1.0471127033233643\tacc:60.00%\tval_loss:1.154236912727356\tval_acc:59.46%\n",
      "Epoch  9, CIFAR-10 Batch 2:  loss:1.0267380475997925\tacc:75.00%\tval_loss:1.1379878520965576\tval_acc:59.38%\n",
      "Epoch  9, CIFAR-10 Batch 3:  loss:0.6812936663627625\tacc:80.00%\tval_loss:1.1110403537750244\tval_acc:60.96%\n",
      "Epoch  9, CIFAR-10 Batch 4:  loss:0.7973675727844238\tacc:72.50%\tval_loss:1.1145728826522827\tval_acc:61.36%\n",
      "Epoch  9, CIFAR-10 Batch 5:  loss:1.0466282367706299\tacc:65.00%\tval_loss:1.212759256362915\tval_acc:58.52%\n",
      "Epoch 10, CIFAR-10 Batch 1:  loss:0.9319353103637695\tacc:70.00%\tval_loss:1.0932742357254028\tval_acc:60.98%\n",
      "Epoch 10, CIFAR-10 Batch 2:  loss:1.004539132118225\tacc:70.00%\tval_loss:1.112525463104248\tval_acc:61.06%\n",
      "Epoch 10, CIFAR-10 Batch 3:  loss:0.6719253063201904\tacc:82.50%\tval_loss:1.0854934453964233\tval_acc:62.56%\n",
      "Epoch 10, CIFAR-10 Batch 4:  loss:0.7774834632873535\tacc:70.00%\tval_loss:1.1270090341567993\tval_acc:61.84%\n",
      "Epoch 10, CIFAR-10 Batch 5:  loss:0.9441259503364563\tacc:65.00%\tval_loss:1.1727180480957031\tval_acc:58.96%\n",
      "Epoch 11, CIFAR-10 Batch 1:  loss:0.9623047113418579\tacc:65.00%\tval_loss:1.1322890520095825\tval_acc:60.02%\n",
      "Epoch 11, CIFAR-10 Batch 2:  loss:1.0330358743667603\tacc:67.50%\tval_loss:1.0897964239120483\tval_acc:61.62%\n",
      "Epoch 11, CIFAR-10 Batch 3:  loss:0.6751905679702759\tacc:80.00%\tval_loss:1.1037437915802002\tval_acc:61.80%\n",
      "Epoch 11, CIFAR-10 Batch 4:  loss:0.7779046297073364\tacc:72.50%\tval_loss:1.1016789674758911\tval_acc:61.48%\n",
      "Epoch 11, CIFAR-10 Batch 5:  loss:0.9488331079483032\tacc:80.00%\tval_loss:1.1953752040863037\tval_acc:58.56%\n",
      "Epoch 12, CIFAR-10 Batch 1:  loss:0.8704120516777039\tacc:70.00%\tval_loss:1.0919424295425415\tval_acc:61.70%\n",
      "Epoch 12, CIFAR-10 Batch 2:  loss:1.0160138607025146\tacc:70.00%\tval_loss:1.1161431074142456\tval_acc:61.26%\n",
      "Epoch 12, CIFAR-10 Batch 3:  loss:0.6594091653823853\tacc:82.50%\tval_loss:1.117512583732605\tval_acc:61.58%\n",
      "Epoch 12, CIFAR-10 Batch 4:  loss:0.7838336229324341\tacc:80.00%\tval_loss:1.1272553205490112\tval_acc:61.00%\n",
      "Epoch 12, CIFAR-10 Batch 5:  loss:0.8289443850517273\tacc:80.00%\tval_loss:1.1304328441619873\tval_acc:60.80%\n",
      "Epoch 13, CIFAR-10 Batch 1:  loss:0.8392812609672546\tacc:67.50%\tval_loss:1.087470293045044\tval_acc:61.78%\n",
      "Epoch 13, CIFAR-10 Batch 2:  loss:1.085012674331665\tacc:70.00%\tval_loss:1.2510058879852295\tval_acc:56.82%\n",
      "Epoch 13, CIFAR-10 Batch 3:  loss:0.6206018924713135\tacc:92.50%\tval_loss:1.0679737329483032\tval_acc:62.88%\n",
      "Epoch 13, CIFAR-10 Batch 4:  loss:0.7250926494598389\tacc:77.50%\tval_loss:1.0787092447280884\tval_acc:62.64%\n",
      "Epoch 13, CIFAR-10 Batch 5:  loss:0.8390460014343262\tacc:75.00%\tval_loss:1.1404178142547607\tval_acc:60.56%\n",
      "Epoch 14, CIFAR-10 Batch 1:  loss:0.8511168360710144\tacc:67.50%\tval_loss:1.0828096866607666\tval_acc:62.44%\n",
      "Epoch 14, CIFAR-10 Batch 2:  loss:1.113834023475647\tacc:67.50%\tval_loss:1.2147578001022339\tval_acc:57.52%\n",
      "Epoch 14, CIFAR-10 Batch 3:  loss:0.6478816270828247\tacc:82.50%\tval_loss:1.0665206909179688\tval_acc:63.28%\n",
      "Epoch 14, CIFAR-10 Batch 4:  loss:0.7165573835372925\tacc:77.50%\tval_loss:1.095250129699707\tval_acc:61.58%\n",
      "Epoch 14, CIFAR-10 Batch 5:  loss:0.8586492538452148\tacc:75.00%\tval_loss:1.1672945022583008\tval_acc:59.96%\n",
      "Epoch 15, CIFAR-10 Batch 1:  loss:0.8264050483703613\tacc:67.50%\tval_loss:1.0519065856933594\tval_acc:63.10%\n",
      "Epoch 15, CIFAR-10 Batch 2:  loss:0.8458973169326782\tacc:70.00%\tval_loss:1.0972261428833008\tval_acc:62.50%\n",
      "Epoch 15, CIFAR-10 Batch 3:  loss:0.5391049385070801\tacc:90.00%\tval_loss:1.033529281616211\tval_acc:64.60%\n",
      "Epoch 15, CIFAR-10 Batch 4:  loss:0.7067657709121704\tacc:80.00%\tval_loss:1.0614490509033203\tval_acc:62.48%\n",
      "Epoch 15, CIFAR-10 Batch 5:  loss:0.8081052899360657\tacc:77.50%\tval_loss:1.1126614809036255\tval_acc:61.94%\n",
      "Epoch 16, CIFAR-10 Batch 1:  loss:0.7506324052810669\tacc:75.00%\tval_loss:1.0486044883728027\tval_acc:63.08%\n",
      "Epoch 16, CIFAR-10 Batch 2:  loss:0.9577933549880981\tacc:70.00%\tval_loss:1.0915335416793823\tval_acc:62.22%\n"
     ]
    },
    {
     "name": "stdout",
     "output_type": "stream",
     "text": [
      "Epoch 16, CIFAR-10 Batch 3:  loss:0.5875133275985718\tacc:92.50%\tval_loss:1.0633318424224854\tval_acc:63.94%\n",
      "Epoch 16, CIFAR-10 Batch 4:  loss:0.6996017694473267\tacc:82.50%\tval_loss:1.1182032823562622\tval_acc:61.74%\n",
      "Epoch 16, CIFAR-10 Batch 5:  loss:0.8504312634468079\tacc:72.50%\tval_loss:1.1959649324417114\tval_acc:58.80%\n",
      "Epoch 17, CIFAR-10 Batch 1:  loss:0.7095839381217957\tacc:72.50%\tval_loss:1.0205961465835571\tval_acc:64.30%\n",
      "Epoch 17, CIFAR-10 Batch 2:  loss:0.9119729995727539\tacc:70.00%\tval_loss:1.1289842128753662\tval_acc:59.86%\n",
      "Epoch 17, CIFAR-10 Batch 3:  loss:0.4930090308189392\tacc:90.00%\tval_loss:1.0110355615615845\tval_acc:64.94%\n",
      "Epoch 17, CIFAR-10 Batch 4:  loss:0.6969281435012817\tacc:77.50%\tval_loss:1.121916651725769\tval_acc:60.26%\n",
      "Epoch 17, CIFAR-10 Batch 5:  loss:0.7232309579849243\tacc:77.50%\tval_loss:1.118257999420166\tval_acc:61.28%\n",
      "Epoch 18, CIFAR-10 Batch 1:  loss:0.7325976490974426\tacc:72.50%\tval_loss:1.0661314725875854\tval_acc:63.38%\n",
      "Epoch 18, CIFAR-10 Batch 2:  loss:0.834572970867157\tacc:70.00%\tval_loss:1.0994629859924316\tval_acc:62.34%\n",
      "Epoch 18, CIFAR-10 Batch 3:  loss:0.5520716905593872\tacc:87.50%\tval_loss:1.062777042388916\tval_acc:63.44%\n",
      "Epoch 18, CIFAR-10 Batch 4:  loss:0.7140009999275208\tacc:75.00%\tval_loss:1.0809268951416016\tval_acc:62.18%\n",
      "Epoch 18, CIFAR-10 Batch 5:  loss:0.7323025465011597\tacc:77.50%\tval_loss:1.125808596611023\tval_acc:61.56%\n",
      "Epoch 19, CIFAR-10 Batch 1:  loss:0.6618688106536865\tacc:80.00%\tval_loss:1.061019778251648\tval_acc:63.74%\n",
      "Epoch 19, CIFAR-10 Batch 2:  loss:0.765810489654541\tacc:72.50%\tval_loss:1.062261700630188\tval_acc:63.50%\n",
      "Epoch 19, CIFAR-10 Batch 3:  loss:0.4583931863307953\tacc:95.00%\tval_loss:1.0087831020355225\tval_acc:64.80%\n",
      "Epoch 19, CIFAR-10 Batch 4:  loss:0.6511986255645752\tacc:77.50%\tval_loss:1.089375615119934\tval_acc:61.68%\n",
      "Epoch 19, CIFAR-10 Batch 5:  loss:0.6355404853820801\tacc:90.00%\tval_loss:1.0450814962387085\tval_acc:63.82%\n",
      "Epoch 20, CIFAR-10 Batch 1:  loss:0.7292417287826538\tacc:75.00%\tval_loss:1.0193287134170532\tval_acc:63.96%\n",
      "Epoch 20, CIFAR-10 Batch 2:  loss:0.7490989565849304\tacc:72.50%\tval_loss:1.0459191799163818\tval_acc:64.06%\n",
      "Epoch 20, CIFAR-10 Batch 3:  loss:0.5234495401382446\tacc:90.00%\tval_loss:1.0023322105407715\tval_acc:65.18%\n",
      "Epoch 20, CIFAR-10 Batch 4:  loss:0.6239114999771118\tacc:80.00%\tval_loss:1.0675618648529053\tval_acc:62.28%\n",
      "Epoch 20, CIFAR-10 Batch 5:  loss:0.6637064814567566\tacc:85.00%\tval_loss:1.0500801801681519\tval_acc:63.80%\n",
      "WARNING:tensorflow:Error encountered when serializing regularization_losses.\n",
      "Type is unsupported, or the types of the items don't match field type in CollectionDef.\n",
      "'function' object has no attribute 'name'\n"
     ]
    }
   ],
   "source": [
    "\"\"\"\n",
    "DON'T MODIFY ANYTHING IN THIS CELL\n",
    "\"\"\"\n",
    "save_model_path = './image_classification'\n",
    "\n",
    "print('Training...')\n",
    "with tf.Session() as sess:\n",
    "    # Initializing the variables\n",
    "    sess.run(tf.global_variables_initializer())\n",
    "    \n",
    "    # Training cycle\n",
    "    for epoch in range(epochs):\n",
    "        # Loop over all batches\n",
    "        n_batches = 5\n",
    "        for batch_i in range(1, n_batches + 1):\n",
    "            for batch_features, batch_labels in helper.load_preprocess_training_batch(batch_i, batch_size):\n",
    "                train_neural_network(sess, optimizer, keep_probability, batch_features, batch_labels)\n",
    "            print('Epoch {:>2}, CIFAR-10 Batch {}:  '.format(epoch + 1, batch_i), end='')\n",
    "            print_stats(sess, batch_features, batch_labels, cost, accuracy)\n",
    "            \n",
    "    # Save Model\n",
    "    saver = tf.train.Saver()\n",
    "    save_path = saver.save(sess, save_model_path)"
   ]
  },
  {
   "cell_type": "markdown",
   "metadata": {},
   "source": [
    "# 检查点\n",
    "\n",
    "模型已保存到本地。\n",
    "\n",
    "## 测试模型\n",
    "\n",
    "利用测试数据集测试你的模型。这将是最终的准确率。你的准确率应该高于 50%。如果没达到，请继续调整模型结构和参数。"
   ]
  },
  {
   "cell_type": "code",
   "execution_count": 106,
   "metadata": {},
   "outputs": [
    {
     "name": "stdout",
     "output_type": "stream",
     "text": [
      "INFO:tensorflow:Restoring parameters from ./image_classification\n",
      "Testing Accuracy: 0.6302412974683544\n",
      "\n"
     ]
    },
    {
     "data": {
      "image/png": "[encoded data removed]",
      "text/plain": [
       "<matplotlib.figure.Figure at 0x1f5acbe9550>"
      ]
     },
     "metadata": {
      "image/png": {
       "height": 319,
       "width": 355
      }
     },
     "output_type": "display_data"
    }
   ],
   "source": [
    "\"\"\"\n",
    "DON'T MODIFY ANYTHING IN THIS CELL\n",
    "\"\"\"\n",
    "%matplotlib inline\n",
    "%config InlineBackend.figure_format = 'retina'\n",
    "\n",
    "import tensorflow as tf\n",
    "import pickle\n",
    "import helper\n",
    "import random\n",
    "\n",
    "# Set batch size if not already set\n",
    "try:\n",
    "    if batch_size:\n",
    "        pass\n",
    "except NameError:\n",
    "    batch_size = 64\n",
    "\n",
    "save_model_path = './image_classification'\n",
    "n_samples = 4\n",
    "top_n_predictions = 3\n",
    "\n",
    "def test_model():\n",
    "    \"\"\"\n",
    "    Test the saved model against the test dataset\n",
    "    \"\"\"\n",
    "\n",
    "    test_features, test_labels = pickle.load(open('preprocess_test.p', mode='rb'))\n",
    "    loaded_graph = tf.Graph()\n",
    "\n",
    "    with tf.Session(graph=loaded_graph) as sess:\n",
    "        # Load model\n",
    "        loader = tf.train.import_meta_graph(save_model_path + '.meta')\n",
    "        loader.restore(sess, save_model_path)\n",
    "\n",
    "        # Get Tensors from loaded model\n",
    "        loaded_x = loaded_graph.get_tensor_by_name('x:0')\n",
    "        loaded_y = loaded_graph.get_tensor_by_name('y:0')\n",
    "        loaded_keep_prob = loaded_graph.get_tensor_by_name('keep_prob:0')\n",
    "        loaded_logits = loaded_graph.get_tensor_by_name('logits:0')\n",
    "        loaded_acc = loaded_graph.get_tensor_by_name('accuracy:0')\n",
    "        \n",
    "        # Get accuracy in batches for memory limitations\n",
    "        test_batch_acc_total = 0\n",
    "        test_batch_count = 0\n",
    "        \n",
    "        for test_feature_batch, test_label_batch in helper.batch_features_labels(test_features, test_labels, batch_size):\n",
    "            test_batch_acc_total += sess.run(\n",
    "                loaded_acc,\n",
    "                feed_dict={loaded_x: test_feature_batch, loaded_y: test_label_batch, loaded_keep_prob: 1.0})\n",
    "            test_batch_count += 1\n",
    "\n",
    "        print('Testing Accuracy: {}\\n'.format(test_batch_acc_total/test_batch_count))\n",
    "\n",
    "        # Print Random Samples\n",
    "        random_test_features, random_test_labels = tuple(zip(*random.sample(list(zip(test_features, test_labels)), n_samples)))\n",
    "        random_test_predictions = sess.run(\n",
    "            tf.nn.top_k(tf.nn.softmax(loaded_logits), top_n_predictions),\n",
    "            feed_dict={loaded_x: random_test_features, loaded_y: random_test_labels, loaded_keep_prob: 1.0})\n",
    "        helper.display_image_predictions(random_test_features, random_test_labels, random_test_predictions)\n",
    "\n",
    "\n",
    "test_model()"
   ]
  },
  {
   "cell_type": "markdown",
   "metadata": {},
   "source": [
    "## 为何准确率只有50-80%？\n",
    "\n",
    "你可能想问，为何准确率不能更高了？首先，对于简单的 CNN 网络来说，50% 已经不低了。纯粹猜测的准确率为10%。但是，你可能注意到有人的准确率[远远超过 80%](http://rodrigob.github.io/are_we_there_yet/build/classification_datasets_results.html#43494641522d3130)。这是因为我们还没有介绍所有的神经网络知识。我们还需要掌握一些其他技巧。\n",
    "\n",
    "## 提交项目\n",
    "\n",
    "提交项目时，确保先运行所有单元，然后再保存记事本。将 notebook 文件另存为“dlnd_image_classification.ipynb”，再在目录 \"File\" -> \"Download as\" 另存为 HTML 格式。请在提交的项目中包含 “helper.py” 和 “problem_unittests.py” 文件。\n"
   ]
  }
 ],
 "metadata": {
  "kernelspec": {
   "display_name": "Python 3",
   "language": "python",
   "name": "python3"
  },
  "language_info": {
   "codemirror_mode": {
    "name": "ipython",
    "version": 3
   },
   "file_extension": ".py",
   "mimetype": "text/x-python",
   "name": "python",
   "nbconvert_exporter": "python",
   "pygments_lexer": "ipython3",
   "version": "3.5.3"
  }
 },
 "nbformat": 4,
 "nbformat_minor": 1
}
